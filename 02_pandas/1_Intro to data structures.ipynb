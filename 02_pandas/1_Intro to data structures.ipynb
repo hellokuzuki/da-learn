{
 "cells": [
  {
   "cell_type": "markdown",
   "metadata": {},
   "source": [
    "## Series\n",
    "---\n",
    "### Create Series\n",
    "\n",
    "1. Create Series from ndarray "
   ]
  },
  {
   "cell_type": "code",
   "execution_count": 2,
   "metadata": {},
   "outputs": [],
   "source": [
    "import pandas as pd\n",
    "import numpy as np"
   ]
  },
  {
   "cell_type": "code",
   "execution_count": 17,
   "metadata": {},
   "outputs": [
    {
     "data": {
      "text/plain": [
       "a    6\n",
       "b    9\n",
       "c    6\n",
       "d    9\n",
       "e    7\n",
       "dtype: int32"
      ]
     },
     "execution_count": 17,
     "metadata": {},
     "output_type": "execute_result"
    }
   ],
   "source": [
    "s_ndarray= pd.Series(np.random.randint(5, 10, size=5), index=['a', 'b', 'c', 'd', 'e'])\n",
    "s_ndarray"
   ]
  },
  {
   "cell_type": "markdown",
   "metadata": {},
   "source": [
    "2. Create Series from dict"
   ]
  },
  {
   "cell_type": "code",
   "execution_count": 22,
   "metadata": {},
   "outputs": [
    {
     "data": {
      "text/plain": [
       "name       Mark\n",
       "age          39\n",
       "gender     Male\n",
       "Married    True\n",
       "dtype: object"
      ]
     },
     "execution_count": 22,
     "metadata": {},
     "output_type": "execute_result"
    }
   ],
   "source": [
    "dic = {'name': 'Mark', 'age': 39, 'gender': 'Male', 'Married': True}\n",
    "\n",
    "# Without index passed\n",
    "s_dic = pd.Series(dic)\n",
    "\n",
    "s_dic"
   ]
  },
  {
   "cell_type": "code",
   "execution_count": 24,
   "metadata": {},
   "outputs": [
    {
     "data": {
      "text/plain": [
       "gender     Male\n",
       "age          39\n",
       "Married    True\n",
       "name       Mark\n",
       "hobbies     NaN\n",
       "dtype: object"
      ]
     },
     "execution_count": 24,
     "metadata": {},
     "output_type": "execute_result"
    }
   ],
   "source": [
    "# With index passed\n",
    "s_dic2 = pd.Series(dic, index=['gender', 'age', 'Married', 'name','hobbies'])\n",
    "\n",
    "s_dic2\n"
   ]
  },
  {
   "cell_type": "markdown",
   "metadata": {},
   "source": [
    "3. Create Series from scalar"
   ]
  },
  {
   "cell_type": "code",
   "execution_count": 26,
   "metadata": {},
   "outputs": [
    {
     "data": {
      "text/plain": [
       "a    7.0\n",
       "b    7.0\n",
       "c    7.0\n",
       "d    7.0\n",
       "e    7.0\n",
       "f    7.0\n",
       "z    7.0\n",
       "dtype: float64"
      ]
     },
     "execution_count": 26,
     "metadata": {},
     "output_type": "execute_result"
    }
   ],
   "source": [
    "s_scalar = pd.Series(7., index=list('abcdefz'))\n",
    "s_scalar"
   ]
  },
  {
   "cell_type": "markdown",
   "metadata": {},
   "source": [
    "### Series is ndarray-like"
   ]
  },
  {
   "cell_type": "code",
   "execution_count": 42,
   "metadata": {},
   "outputs": [
    {
     "data": {
      "text/plain": [
       "a    5\n",
       "b    3\n",
       "c    4\n",
       "d    2\n",
       "e    5\n",
       "dtype: int32"
      ]
     },
     "metadata": {},
     "output_type": "display_data"
    },
    {
     "name": "stdout",
     "output_type": "stream",
     "text": [
      ">>> get serial element:\n"
     ]
    },
    {
     "data": {
      "text/plain": [
       "2"
      ]
     },
     "metadata": {},
     "output_type": "display_data"
    },
    {
     "name": "stdout",
     "output_type": "stream",
     "text": [
      ">>> get serial elements:\n"
     ]
    },
    {
     "data": {
      "text/plain": [
       "b    3\n",
       "e    5\n",
       "dtype: int32"
      ]
     },
     "metadata": {},
     "output_type": "display_data"
    },
    {
     "name": "stdout",
     "output_type": "stream",
     "text": [
      ">>> get sliced elements from serial:\n"
     ]
    },
    {
     "data": {
      "text/plain": [
       "a    5\n",
       "b    3\n",
       "c    4\n",
       "dtype: int32"
      ]
     },
     "metadata": {},
     "output_type": "display_data"
    },
    {
     "name": "stdout",
     "output_type": "stream",
     "text": [
      ">>> get filtered elements:\n"
     ]
    },
    {
     "data": {
      "text/plain": [
       "a    5\n",
       "e    5\n",
       "dtype: int32"
      ]
     },
     "metadata": {},
     "output_type": "display_data"
    },
    {
     "name": "stdout",
     "output_type": "stream",
     "text": [
      ">>> get exponent of each element:\n"
     ]
    },
    {
     "data": {
      "text/plain": [
       "a    148.413159\n",
       "b     20.085537\n",
       "c     54.598150\n",
       "d      7.389056\n",
       "e    148.413159\n",
       "dtype: float64"
      ]
     },
     "metadata": {},
     "output_type": "display_data"
    },
    {
     "name": "stdout",
     "output_type": "stream",
     "text": [
      ">>> convert series to actuall array type\n"
     ]
    },
    {
     "data": {
      "text/plain": [
       "<PandasArray>\n",
       "[5, 3, 4, 2, 5]\n",
       "Length: 5, dtype: int32"
      ]
     },
     "metadata": {},
     "output_type": "display_data"
    },
    {
     "name": "stdout",
     "output_type": "stream",
     "text": [
      ">>> convert series to actuall ndarray type\n"
     ]
    },
    {
     "data": {
      "text/plain": [
       "array([5, 3, 4, 2, 5])"
      ]
     },
     "metadata": {},
     "output_type": "display_data"
    }
   ],
   "source": [
    "s_ndarray_like = pd.Series(np.random.randint(10, size=5), index=list('abcde'))\n",
    "\n",
    "display(s_ndarray_like)\n",
    "\n",
    "print('>>> get serial element:')\n",
    "display(s_ndarray_like[3])\n",
    "print('>>> get serial elements:')\n",
    "display(s_ndarray_like[[1,4]])\n",
    "print('>>> get sliced elements from serial:')\n",
    "display(s_ndarray_like[:3])\n",
    "print('>>> get filtered elements:')\n",
    "display(s_ndarray_like[s_ndarray_like > s_ndarray_like.median()])\n",
    "print('>>> get exponent of each element:')\n",
    "display(np.exp(s_ndarray_like))\n",
    "\n",
    "\n",
    "print('>>> convert series to actuall array type')\n",
    "display(s_ndarray_like.array)\n",
    "\n",
    "print('>>> convert series to actuall ndarray type')\n",
    "display(s_ndarray_like.to_numpy())"
   ]
  },
  {
   "cell_type": "markdown",
   "metadata": {},
   "source": [
    "### Series is dict-like"
   ]
  },
  {
   "cell_type": "code",
   "execution_count": 54,
   "metadata": {},
   "outputs": [
    {
     "data": {
      "text/plain": [
       "a    1\n",
       "b    2\n",
       "c    4\n",
       "d    1\n",
       "e    3\n",
       "dtype: int32"
      ]
     },
     "metadata": {},
     "output_type": "display_data"
    },
    {
     "name": "stdout",
     "output_type": "stream",
     "text": [
      ">>> get series element value by key name\n"
     ]
    },
    {
     "data": {
      "text/plain": [
       "4"
      ]
     },
     "metadata": {},
     "output_type": "display_data"
    },
    {
     "name": "stdout",
     "output_type": "stream",
     "text": [
      ">>> set series element with new value by key name\n"
     ]
    },
    {
     "data": {
      "text/plain": [
       "a     1\n",
       "b     2\n",
       "c    99\n",
       "d     1\n",
       "e     3\n",
       "dtype: int32"
      ]
     },
     "metadata": {},
     "output_type": "display_data"
    },
    {
     "name": "stdout",
     "output_type": "stream",
     "text": [
      ">>> check key(label) does exist in series\n"
     ]
    },
    {
     "data": {
      "text/plain": [
       "True"
      ]
     },
     "metadata": {},
     "output_type": "display_data"
    },
    {
     "data": {
      "text/plain": [
       "False"
      ]
     },
     "metadata": {},
     "output_type": "display_data"
    },
    {
     "name": "stdout",
     "output_type": "stream",
     "text": [
      ">>> get series element using get method\n"
     ]
    },
    {
     "data": {
      "text/plain": [
       "1"
      ]
     },
     "metadata": {},
     "output_type": "display_data"
    },
    {
     "data": {
      "text/plain": [
       "None"
      ]
     },
     "metadata": {},
     "output_type": "display_data"
    },
    {
     "data": {
      "text/plain": [
       "nan"
      ]
     },
     "metadata": {},
     "output_type": "display_data"
    }
   ],
   "source": [
    "s_dict_like = pd.Series(np.random.randint(10, size=5), index=list('abcde'))\n",
    "\n",
    "display(s_dict_like)\n",
    "\n",
    "print('>>> get series element value by key name')\n",
    "display(s_dict_like['c'])\n",
    "\n",
    "print('>>> set series element with new value by key name')\n",
    "s_dict_like['c'] = 99\n",
    "display(s_dict_like)\n",
    "\n",
    "print('>>> check key(label) does exist in series')\n",
    "display('a' in s_dict_like)\n",
    "display('z' in s_dict_like)\n",
    "\n",
    "print('>>> get series element using get method')\n",
    "display(s_dict_like.get('a'))\n",
    "\n",
    "display(s_dict_like.get('z'))\n",
    "\n",
    "display(s_dict_like.get('z', np.nan))"
   ]
  },
  {
   "cell_type": "markdown",
   "metadata": {},
   "source": [
    "### Vectorized operations and label alignment with Series"
   ]
  },
  {
   "cell_type": "code",
   "execution_count": 62,
   "metadata": {},
   "outputs": [
    {
     "name": "stdout",
     "output_type": "stream",
     "text": [
      ">>> Add 2 series\n"
     ]
    },
    {
     "data": {
      "text/plain": [
       "a    4\n",
       "b    6\n",
       "c    4\n",
       "d    9\n",
       "e    0\n",
       "dtype: int32"
      ]
     },
     "metadata": {},
     "output_type": "display_data"
    },
    {
     "data": {
      "text/plain": [
       "u    8\n",
       "v    3\n",
       "x    1\n",
       "y    7\n",
       "z    2\n",
       "dtype: int32"
      ]
     },
     "metadata": {},
     "output_type": "display_data"
    },
    {
     "data": {
      "text/plain": [
       "a     8\n",
       "b    12\n",
       "c     8\n",
       "d    18\n",
       "e     0\n",
       "dtype: int32"
      ]
     },
     "metadata": {},
     "output_type": "display_data"
    },
    {
     "data": {
      "text/plain": [
       "a     8\n",
       "b    12\n",
       "c     8\n",
       "d    18\n",
       "e     0\n",
       "dtype: int32"
      ]
     },
     "metadata": {},
     "output_type": "display_data"
    },
    {
     "name": "stdout",
     "output_type": "stream",
     "text": [
      ">>> Miss aligned label will get NaN\n"
     ]
    },
    {
     "data": {
      "text/plain": [
       "a   NaN\n",
       "b   NaN\n",
       "c   NaN\n",
       "d   NaN\n",
       "e   NaN\n",
       "u   NaN\n",
       "v   NaN\n",
       "x   NaN\n",
       "y   NaN\n",
       "z   NaN\n",
       "dtype: float64"
      ]
     },
     "metadata": {},
     "output_type": "display_data"
    }
   ],
   "source": [
    "print('>>> Add 2 series')\n",
    "s_op1 = pd.Series(np.random.randint(10, size=5), index=list('abcde'))\n",
    "s_op2 = pd.Series(np.random.randint(10, size=5), index=list('uvxyz'))\n",
    "\n",
    "display(s_op1)\n",
    "\n",
    "display(s_op2)\n",
    "\n",
    "display(s_op1 + s_op1)\n",
    "display(s_op1 *2)\n",
    "\n",
    "print('>>> Miss aligned label will get NaN')\n",
    "display(s_op1 + s_op2)"
   ]
  },
  {
   "cell_type": "markdown",
   "metadata": {},
   "source": [
    "### Series Name attribute"
   ]
  },
  {
   "cell_type": "code",
   "execution_count": 67,
   "metadata": {},
   "outputs": [
    {
     "data": {
      "text/plain": [
       "a    78\n",
       "b    97\n",
       "c    77\n",
       "d    93\n",
       "e    39\n",
       "Name: best arrage, dtype: int32"
      ]
     },
     "metadata": {},
     "output_type": "display_data"
    },
    {
     "data": {
      "text/plain": [
       "'best arrage'"
      ]
     },
     "metadata": {},
     "output_type": "display_data"
    },
    {
     "data": {
      "text/plain": [
       "a    78\n",
       "b    97\n",
       "c    77\n",
       "d    93\n",
       "e    39\n",
       "Name: bad arrage, dtype: int32"
      ]
     },
     "metadata": {},
     "output_type": "display_data"
    }
   ],
   "source": [
    "s_name = pd.Series(np.random.randint(100, size=5), index=list('abcde'), name='best arrage')\n",
    "\n",
    "display(s_name)\n",
    "display(s_name.name)\n",
    "\n",
    "s_rename = s_name.rename('bad arrage')\n",
    "display(s_rename)"
   ]
  }
 ],
 "metadata": {
  "kernelspec": {
   "display_name": "Python 3",
   "language": "python",
   "name": "python3"
  },
  "language_info": {
   "codemirror_mode": {
    "name": "ipython",
    "version": 3
   },
   "file_extension": ".py",
   "mimetype": "text/x-python",
   "name": "python",
   "nbconvert_exporter": "python",
   "pygments_lexer": "ipython3",
   "version": "3.8.3"
  }
 },
 "nbformat": 4,
 "nbformat_minor": 4
}
