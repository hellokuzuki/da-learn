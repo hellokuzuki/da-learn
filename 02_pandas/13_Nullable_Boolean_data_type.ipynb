{
 "cells": [
  {
   "cell_type": "code",
   "execution_count": 2,
   "metadata": {},
   "outputs": [],
   "source": [
    "import pandas as pd\n",
    "import numpy as np\n",
    "%config Completer.use_jedi=False"
   ]
  },
  {
   "cell_type": "markdown",
   "metadata": {},
   "source": [
    "## Indexing with NA values\n",
    "---"
   ]
  },
  {
   "cell_type": "code",
   "execution_count": 3,
   "metadata": {},
   "outputs": [
    {
     "name": "stdout",
     "output_type": "stream",
     "text": [
      "0    1\n",
      "1    2\n",
      "2    3\n",
      "dtype: int64\n",
      "<BooleanArray>\n",
      "[True, False, <NA>]\n",
      "Length: 3, dtype: boolean\n"
     ]
    },
    {
     "data": {
      "text/plain": [
       "0    1\n",
       "dtype: int64"
      ]
     },
     "execution_count": 3,
     "metadata": {},
     "output_type": "execute_result"
    }
   ],
   "source": [
    "s = pd.Series([1, 2, 3])\n",
    "mask = pd.array([True, False, pd.NA], dtype=\"boolean\")\n",
    "print(s)\n",
    "print(mask)\n",
    "s[mask]"
   ]
  },
  {
   "cell_type": "code",
   "execution_count": 4,
   "metadata": {},
   "outputs": [
    {
     "data": {
      "text/plain": [
       "0    1\n",
       "2    3\n",
       "dtype: int64"
      ]
     },
     "execution_count": 4,
     "metadata": {},
     "output_type": "execute_result"
    }
   ],
   "source": [
    "# If you would prefer to keep the NA values you can manually fill them with fillna(True).\n",
    "s[mask.fillna(True)]"
   ]
  },
  {
   "cell_type": "markdown",
   "metadata": {},
   "source": [
    "## Kleene logical operations\n",
    "Expression\n",
    "\n",
    "Result\n",
    "\n",
    "True & True\n",
    "\n",
    "True\n",
    "\n",
    "True & False\n",
    "\n",
    "False\n",
    "\n",
    "True & NA\n",
    "\n",
    "NA\n",
    "\n",
    "False & False\n",
    "\n",
    "False\n",
    "\n",
    "False & NA\n",
    "\n",
    "False\n",
    "\n",
    "NA & NA\n",
    "\n",
    "NA\n",
    "\n",
    "True | True\n",
    "\n",
    "True\n",
    "\n",
    "True | False\n",
    "\n",
    "True\n",
    "\n",
    "True | NA\n",
    "\n",
    "True\n",
    "\n",
    "False | False\n",
    "\n",
    "False\n",
    "\n",
    "False | NA\n",
    "\n",
    "NA\n",
    "\n",
    "NA | NA\n",
    "\n",
    "NA\n",
    "\n",
    "True ^ True\n",
    "\n",
    "False\n",
    "\n",
    "True ^ False\n",
    "\n",
    "True\n",
    "\n",
    "True ^ NA\n",
    "\n",
    "NA\n",
    "\n",
    "False ^ False\n",
    "\n",
    "False\n",
    "\n",
    "False ^ NA\n",
    "\n",
    "NA\n",
    "\n",
    "NA ^ NA\n",
    "\n",
    "NA"
   ]
  },
  {
   "cell_type": "code",
   "execution_count": null,
   "metadata": {},
   "outputs": [],
   "source": []
  }
 ],
 "metadata": {
  "kernelspec": {
   "display_name": "Python 3",
   "language": "python",
   "name": "python3"
  },
  "language_info": {
   "codemirror_mode": {
    "name": "ipython",
    "version": 3
   },
   "file_extension": ".py",
   "mimetype": "text/x-python",
   "name": "python",
   "nbconvert_exporter": "python",
   "pygments_lexer": "ipython3",
   "version": "3.8.5"
  }
 },
 "nbformat": 4,
 "nbformat_minor": 4
}
