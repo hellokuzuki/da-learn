{
 "cells": [
  {
   "cell_type": "code",
   "execution_count": 1,
   "metadata": {},
   "outputs": [],
   "source": [
    "import pandas as pd\n",
    "import numpy as np\n",
    "import matplotlib.pyplot as plt\n",
    "import glob\n",
    "import os\n",
    "import math"
   ]
  },
  {
   "cell_type": "markdown",
   "metadata": {},
   "source": [
    "## 1. Concatenate all input sales files into single csv file and export"
   ]
  },
  {
   "cell_type": "code",
   "execution_count": 2,
   "metadata": {},
   "outputs": [],
   "source": [
    "files = glob.glob('./input/*.csv')\n",
    "\n",
    "# Method 1\n",
    "# dfs = [pd.read_csv(x)for x in files]\n",
    "# all_data = pd.concat(dfs, ignore_index=True)\n",
    "# all_data.to_csv('./01_sales/output/all_data.csv')\n",
    "\n",
    "# Method 2\n",
    "dfs = [pd.read_csv(x) for x in files]\n",
    "all_data = pd.DataFrame(np.concatenate([x.values for x in dfs]), columns=dfs[0].columns)"
   ]
  },
  {
   "cell_type": "markdown",
   "metadata": {},
   "source": [
    "## 2. Data cleanup (remove NA rows, duplicated headers)"
   ]
  },
  {
   "cell_type": "code",
   "execution_count": 3,
   "metadata": {},
   "outputs": [
    {
     "data": {
      "text/plain": [
       "array(['2', nan, '1', '3', '5', 'Quantity Ordered', '4', '7', '6', '8',\n",
       "       '9'], dtype=object)"
      ]
     },
     "metadata": {},
     "output_type": "display_data"
    },
    {
     "data": {
      "text/plain": [
       "1                   168552\n",
       "2                    13324\n",
       "3                     2920\n",
       "4                      806\n",
       "Quantity Ordered       355\n",
       "5                      236\n",
       "6                       80\n",
       "7                       24\n",
       "8                        5\n",
       "9                        3\n",
       "Name: Quantity Ordered, dtype: int64"
      ]
     },
     "metadata": {},
     "output_type": "display_data"
    },
    {
     "data": {
      "text/plain": [
       "545"
      ]
     },
     "metadata": {},
     "output_type": "display_data"
    }
   ],
   "source": [
    "# Show unique values\n",
    "display(all_data['Quantity Ordered'].unique())\n",
    "# Count unique values\n",
    "display(all_data['Quantity Ordered'].value_counts())\n",
    "# Count NaN values\n",
    "display(len(all_data['Quantity Ordered']) - all_data['Quantity Ordered'].count())"
   ]
  },
  {
   "cell_type": "code",
   "execution_count": 4,
   "metadata": {},
   "outputs": [
    {
     "data": {
      "text/plain": [
       "0"
      ]
     },
     "metadata": {},
     "output_type": "display_data"
    }
   ],
   "source": [
    "# Remove NA values\n",
    "all_data = all_data.dropna(how='all')\n",
    "# Count NaN values\n",
    "display(len(all_data['Quantity Ordered']) - all_data['Quantity Ordered'].count())"
   ]
  },
  {
   "cell_type": "code",
   "execution_count": 5,
   "metadata": {},
   "outputs": [
    {
     "data": {
      "text/plain": [
       "array(['2', '1', '3', '5', '4', '7', '6', '8', '9'], dtype=object)"
      ]
     },
     "metadata": {},
     "output_type": "display_data"
    }
   ],
   "source": [
    "# Remove Duplicated headers\n",
    "headers = all_data.columns\n",
    "all_data = all_data[~all_data['Quantity Ordered'].str.contains('Quantity')]\n",
    "display(all_data['Quantity Ordered'].unique())"
   ]
  },
  {
   "cell_type": "markdown",
   "metadata": {},
   "source": [
    "## 3. Export clean data to csv file"
   ]
  },
  {
   "cell_type": "code",
   "execution_count": 2,
   "metadata": {},
   "outputs": [
    {
     "ename": "NameError",
     "evalue": "name 'all_data' is not defined",
     "output_type": "error",
     "traceback": [
      "\u001b[1;31m---------------------------------------------------------------------------\u001b[0m",
      "\u001b[1;31mNameError\u001b[0m                                 Traceback (most recent call last)",
      "\u001b[1;32m<ipython-input-2-cec057f7a15e>\u001b[0m in \u001b[0;36m<module>\u001b[1;34m\u001b[0m\n\u001b[1;32m----> 1\u001b[1;33m \u001b[0mall_data\u001b[0m\u001b[1;33m.\u001b[0m\u001b[0mto_csv\u001b[0m\u001b[1;33m(\u001b[0m\u001b[1;34m'./output/all_data.csv'\u001b[0m\u001b[1;33m,\u001b[0m \u001b[0mindex\u001b[0m\u001b[1;33m=\u001b[0m\u001b[1;32mFalse\u001b[0m\u001b[1;33m)\u001b[0m\u001b[1;33m\u001b[0m\u001b[1;33m\u001b[0m\u001b[0m\n\u001b[0m",
      "\u001b[1;31mNameError\u001b[0m: name 'all_data' is not defined"
     ]
    }
   ],
   "source": [
    "all_data.to_csv('./output/all_data.csv', index=False)"
   ]
  },
  {
   "cell_type": "markdown",
   "metadata": {},
   "source": [
    "## 4. Convert Column data type"
   ]
  },
  {
   "cell_type": "code",
   "execution_count": 3,
   "metadata": {},
   "outputs": [
    {
     "data": {
      "text/plain": [
       "Order ID                     int64\n",
       "Product                     object\n",
       "Quantity Ordered             int64\n",
       "Price Each                 float64\n",
       "Order Date          datetime64[ns]\n",
       "Purchase Address            object\n",
       "dtype: object"
      ]
     },
     "metadata": {},
     "output_type": "display_data"
    }
   ],
   "source": [
    "all_data = pd.read_csv('./output/all_data.csv')\n",
    "\n",
    "# Convert columns to numeric type\n",
    "all_data[['Order ID', 'Quantity Ordered', 'Price Each']] = all_data[['Order ID', 'Quantity Ordered', 'Price Each']].apply(pd.to_numeric)\n",
    "\n",
    "# Convert columns to string type (object refers to string type)\n",
    "all_data[['Product', 'Purchase Address']] = all_data[['Product', 'Purchase Address']].astype(str)\n",
    "\n",
    "# Convert column to datetime type\n",
    "# Method 1\n",
    "# all_data['Order Date'] = all_data['Order Date'].astype('datetime64[ns]')\n",
    "\n",
    "# Method 2\n",
    "all_data['Order Date'] = pd.to_datetime(all_data['Order Date'])\n",
    "display(all_data.dtypes)"
   ]
  },
  {
   "cell_type": "markdown",
   "metadata": {},
   "source": [
    "---\n",
    "# Question 1: What was the best month for sales? How much was earned for that month\n",
    "---"
   ]
  },
  {
   "cell_type": "markdown",
   "metadata": {},
   "source": [
    "### create a new column 'sum' = 'Quantity Ordered' * 'Price Each'"
   ]
  },
  {
   "cell_type": "code",
   "execution_count": 4,
   "metadata": {},
   "outputs": [],
   "source": [
    "all_data['sum'] = all_data['Quantity Ordered'] * all_data['Price Each']"
   ]
  },
  {
   "cell_type": "markdown",
   "metadata": {},
   "source": [
    "## Create a new column 'month'"
   ]
  },
  {
   "cell_type": "code",
   "execution_count": 5,
   "metadata": {},
   "outputs": [],
   "source": [
    "all_data['month'] = all_data['Order Date'].dt.month"
   ]
  },
  {
   "cell_type": "markdown",
   "metadata": {},
   "source": [
    "## calculate monthly sales"
   ]
  },
  {
   "cell_type": "code",
   "execution_count": 6,
   "metadata": {},
   "outputs": [
    {
     "data": {
      "text/plain": [
       "12"
      ]
     },
     "metadata": {},
     "output_type": "display_data"
    },
    {
     "data": {
      "text/plain": [
       "4613443.340001534"
      ]
     },
     "metadata": {},
     "output_type": "display_data"
    }
   ],
   "source": [
    "# show best month for sales\n",
    "display(all_data.groupby('month')['sum'].sum().idxmax())\n",
    "\n",
    "# show total amount of sales of best month\n",
    "display(all_data.groupby('month')['sum'].sum().max())"
   ]
  },
  {
   "cell_type": "markdown",
   "metadata": {},
   "source": [
    "## Plot yearly sales chart"
   ]
  },
  {
   "cell_type": "code",
   "execution_count": 19,
   "metadata": {},
   "outputs": [
    {
     "data": {
      "text/plain": [
       "<BarContainer object of 12 artists>"
      ]
     },
     "execution_count": 19,
     "metadata": {},
     "output_type": "execute_result"
    },
    {
     "data": {
      "image/png": "[encoded data removed]",
      "text/plain": [
       "<Figure size 864x216 with 1 Axes>"
      ]
     },
     "metadata": {
      "needs_background": "light"
     },
     "output_type": "display_data"
    }
   ],
   "source": [
    "plt.figure(figsize=(12,3))\n",
    "\n",
    "x = all_data.groupby('month')['sum'].sum().index\n",
    "y = all_data.groupby('month')['sum'].sum()\n",
    "\n",
    "plt.xticks(x)\n",
    "plt.ylabel('Sales in USD ($)')\n",
    "plt.xlabel('Month in Number')\n",
    "plt.title('Yearly sales by month')\n",
    "plt.ticklabel_format(style='plain')\n",
    "plt.bar(x, y, width=0.5)"
   ]
  },
  {
   "cell_type": "markdown",
   "metadata": {},
   "source": [
    "---\n",
    "# Question 2: Which city had the highest number of sales\n",
    "---"
   ]
  },
  {
   "cell_type": "code",
   "execution_count": 21,
   "metadata": {},
   "outputs": [],
   "source": [
    "def getCityName(address):\n",
    "    return address.split(',')[1].lstrip()\n",
    "\n",
    "all_data['city'] = all_data['Purchase Address'].apply(lambda x : getCityName(x))"
   ]
  },
  {
   "cell_type": "code",
   "execution_count": 22,
   "metadata": {},
   "outputs": [
    {
     "data": {
      "text/plain": [
       "'San Francisco'"
      ]
     },
     "metadata": {},
     "output_type": "display_data"
    },
    {
     "data": {
      "text/plain": [
       "8262203.910004012"
      ]
     },
     "metadata": {},
     "output_type": "display_data"
    },
    {
     "data": {
      "text/plain": [
       "city\n",
       "Atlanta          2.795499e+06\n",
       "Austin           1.819582e+06\n",
       "Boston           3.661642e+06\n",
       "Dallas           2.767975e+06\n",
       "Los Angeles      5.452571e+06\n",
       "New York City    4.664317e+06\n",
       "Portland         2.320491e+06\n",
       "San Francisco    8.262204e+06\n",
       "Seattle          2.747755e+06\n",
       "Name: sum, dtype: float64"
      ]
     },
     "metadata": {},
     "output_type": "display_data"
    }
   ],
   "source": [
    "# show best month for sales\n",
    "display(all_data.groupby('city')['sum'].sum().idxmax())\n",
    "\n",
    "# show total amount of sales of best month\n",
    "display(all_data.groupby('city')['sum'].sum().max())\n",
    "\n",
    "# show total amount of sales of best month\n",
    "display(all_data.groupby('city')['sum'].sum())"
   ]
  },
  {
   "cell_type": "code",
   "execution_count": 34,
   "metadata": {},
   "outputs": [
    {
     "data": {
      "image/png": "[encoded data removed]",
      "text/plain": [
       "<Figure size 864x432 with 1 Axes>"
      ]
     },
     "metadata": {
      "needs_background": "light"
     },
     "output_type": "display_data"
    }
   ],
   "source": [
    "plt.figure(figsize=(12,6))\n",
    "\n",
    "x = all_data.groupby('city')['sum'].sum().index\n",
    "y = all_data.groupby('city')['sum'].sum()\n",
    "plt.ticklabel_format(style='plain')\n",
    "\n",
    "plt.bar(x, y)\n",
    "plt.ylabel('Sales in USD ($)')\n",
    "plt.xlabel('Cities')\n",
    "plt.xticks(x, rotation='vertical', size=10)\n",
    "plt.show()"
   ]
  },
  {
   "cell_type": "markdown",
   "metadata": {},
   "source": [
    "---\n",
    "# Question 3: What time had best sales?\n",
    "---"
   ]
  },
  {
   "cell_type": "code",
   "execution_count": 54,
   "metadata": {},
   "outputs": [
    {
     "data": {
      "text/plain": [
       "hour\n",
       "0      3910\n",
       "1      2350\n",
       "2      1243\n",
       "3       831\n",
       "4       854\n",
       "5      1321\n",
       "6      2482\n",
       "7      4011\n",
       "8      6256\n",
       "9      8748\n",
       "10    10944\n",
       "11    12411\n",
       "12    12587\n",
       "13    12129\n",
       "14    10984\n",
       "15    10175\n",
       "16    10384\n",
       "17    10899\n",
       "18    12280\n",
       "19    12905\n",
       "20    12228\n",
       "21    10921\n",
       "22     8822\n",
       "23     6275\n",
       "Name: count, dtype: int64"
      ]
     },
     "metadata": {},
     "output_type": "display_data"
    },
    {
     "data": {
      "text/plain": [
       "19"
      ]
     },
     "metadata": {},
     "output_type": "display_data"
    },
    {
     "data": {
      "text/plain": [
       "12905"
      ]
     },
     "metadata": {},
     "output_type": "display_data"
    }
   ],
   "source": [
    "all_data['hour'] = all_data['Order Date'].dt.hour\n",
    "all_data['count'] = 1\n",
    "display(all_data.groupby('hour')['count'].count())\n",
    "\n",
    "display(all_data.groupby('hour')['count'].count().idxmax())\n",
    "\n",
    "display(all_data.groupby('hour')['count'].count().max())"
   ]
  },
  {
   "cell_type": "code",
   "execution_count": 65,
   "metadata": {},
   "outputs": [
    {
     "data": {
      "image/png": "[encoded data removed]",
      "text/plain": [
       "<Figure size 864x576 with 1 Axes>"
      ]
     },
     "metadata": {
      "needs_background": "light"
     },
     "output_type": "display_data"
    }
   ],
   "source": [
    "plt.figure(figsize=(12,8))\n",
    "x = all_data.groupby('hour')['count'].count().index\n",
    "y = all_data.groupby('hour')['count'].count()\n",
    "plt.ticklabel_format(style='plain')\n",
    "plt.xlabel('Hours')\n",
    "plt.ylabel('Number of orders)')\n",
    "plt.xticks(x)\n",
    "plt.plot(x, y)\n",
    "plt.grid()"
   ]
  },
  {
   "cell_type": "markdown",
   "metadata": {},
   "source": [
    "---\n",
    "# Question 4: What products is likely to be sold together?\n",
    "---"
   ]
  },
  {
   "cell_type": "code",
   "execution_count": 70,
   "metadata": {},
   "outputs": [
    {
     "data": {
      "text/html": [
       "<div>\n",
       "<style scoped>\n",
       "    .dataframe tbody tr th:only-of-type {\n",
       "        vertical-align: middle;\n",
       "    }\n",
       "\n",
       "    .dataframe tbody tr th {\n",
       "        vertical-align: top;\n",
       "    }\n",
       "\n",
       "    .dataframe thead th {\n",
       "        text-align: right;\n",
       "    }\n",
       "</style>\n",
       "<table border=\"1\" class=\"dataframe\">\n",
       "  <thead>\n",
       "    <tr style=\"text-align: right;\">\n",
       "      <th></th>\n",
       "      <th>Order ID</th>\n",
       "      <th>Product</th>\n",
       "      <th>Quantity Ordered</th>\n",
       "      <th>Price Each</th>\n",
       "      <th>Order Date</th>\n",
       "      <th>Purchase Address</th>\n",
       "      <th>sum</th>\n",
       "      <th>month</th>\n",
       "      <th>city</th>\n",
       "      <th>hour</th>\n",
       "      <th>count</th>\n",
       "    </tr>\n",
       "  </thead>\n",
       "  <tbody>\n",
       "    <tr>\n",
       "      <th>2</th>\n",
       "      <td>176560</td>\n",
       "      <td>Google Phone</td>\n",
       "      <td>1</td>\n",
       "      <td>600.00</td>\n",
       "      <td>2019-04-12 14:38:00</td>\n",
       "      <td>669 Spruce St, Los Angeles, CA 90001</td>\n",
       "      <td>600.00</td>\n",
       "      <td>4</td>\n",
       "      <td>Los Angeles</td>\n",
       "      <td>14</td>\n",
       "      <td>1</td>\n",
       "    </tr>\n",
       "    <tr>\n",
       "      <th>3</th>\n",
       "      <td>176560</td>\n",
       "      <td>Wired Headphones</td>\n",
       "      <td>1</td>\n",
       "      <td>11.99</td>\n",
       "      <td>2019-04-12 14:38:00</td>\n",
       "      <td>669 Spruce St, Los Angeles, CA 90001</td>\n",
       "      <td>11.99</td>\n",
       "      <td>4</td>\n",
       "      <td>Los Angeles</td>\n",
       "      <td>14</td>\n",
       "      <td>1</td>\n",
       "    </tr>\n",
       "    <tr>\n",
       "      <th>17</th>\n",
       "      <td>176574</td>\n",
       "      <td>Google Phone</td>\n",
       "      <td>1</td>\n",
       "      <td>600.00</td>\n",
       "      <td>2019-04-03 19:42:00</td>\n",
       "      <td>20 Hill St, Los Angeles, CA 90001</td>\n",
       "      <td>600.00</td>\n",
       "      <td>4</td>\n",
       "      <td>Los Angeles</td>\n",
       "      <td>19</td>\n",
       "      <td>1</td>\n",
       "    </tr>\n",
       "    <tr>\n",
       "      <th>18</th>\n",
       "      <td>176574</td>\n",
       "      <td>USB-C Charging Cable</td>\n",
       "      <td>1</td>\n",
       "      <td>11.95</td>\n",
       "      <td>2019-04-03 19:42:00</td>\n",
       "      <td>20 Hill St, Los Angeles, CA 90001</td>\n",
       "      <td>11.95</td>\n",
       "      <td>4</td>\n",
       "      <td>Los Angeles</td>\n",
       "      <td>19</td>\n",
       "      <td>1</td>\n",
       "    </tr>\n",
       "    <tr>\n",
       "      <th>29</th>\n",
       "      <td>176585</td>\n",
       "      <td>Bose SoundSport Headphones</td>\n",
       "      <td>1</td>\n",
       "      <td>99.99</td>\n",
       "      <td>2019-04-07 11:31:00</td>\n",
       "      <td>823 Highland St, Boston, MA 02215</td>\n",
       "      <td>99.99</td>\n",
       "      <td>4</td>\n",
       "      <td>Boston</td>\n",
       "      <td>11</td>\n",
       "      <td>1</td>\n",
       "    </tr>\n",
       "    <tr>\n",
       "      <th>30</th>\n",
       "      <td>176585</td>\n",
       "      <td>Bose SoundSport Headphones</td>\n",
       "      <td>1</td>\n",
       "      <td>99.99</td>\n",
       "      <td>2019-04-07 11:31:00</td>\n",
       "      <td>823 Highland St, Boston, MA 02215</td>\n",
       "      <td>99.99</td>\n",
       "      <td>4</td>\n",
       "      <td>Boston</td>\n",
       "      <td>11</td>\n",
       "      <td>1</td>\n",
       "    </tr>\n",
       "    <tr>\n",
       "      <th>31</th>\n",
       "      <td>176586</td>\n",
       "      <td>AAA Batteries (4-pack)</td>\n",
       "      <td>2</td>\n",
       "      <td>2.99</td>\n",
       "      <td>2019-04-10 17:00:00</td>\n",
       "      <td>365 Center St, San Francisco, CA 94016</td>\n",
       "      <td>5.98</td>\n",
       "      <td>4</td>\n",
       "      <td>San Francisco</td>\n",
       "      <td>17</td>\n",
       "      <td>1</td>\n",
       "    </tr>\n",
       "    <tr>\n",
       "      <th>32</th>\n",
       "      <td>176586</td>\n",
       "      <td>Google Phone</td>\n",
       "      <td>1</td>\n",
       "      <td>600.00</td>\n",
       "      <td>2019-04-10 17:00:00</td>\n",
       "      <td>365 Center St, San Francisco, CA 94016</td>\n",
       "      <td>600.00</td>\n",
       "      <td>4</td>\n",
       "      <td>San Francisco</td>\n",
       "      <td>17</td>\n",
       "      <td>1</td>\n",
       "    </tr>\n",
       "    <tr>\n",
       "      <th>118</th>\n",
       "      <td>176672</td>\n",
       "      <td>Lightning Charging Cable</td>\n",
       "      <td>1</td>\n",
       "      <td>14.95</td>\n",
       "      <td>2019-04-12 11:07:00</td>\n",
       "      <td>778 Maple St, New York City, NY 10001</td>\n",
       "      <td>14.95</td>\n",
       "      <td>4</td>\n",
       "      <td>New York City</td>\n",
       "      <td>11</td>\n",
       "      <td>1</td>\n",
       "    </tr>\n",
       "    <tr>\n",
       "      <th>119</th>\n",
       "      <td>176672</td>\n",
       "      <td>USB-C Charging Cable</td>\n",
       "      <td>1</td>\n",
       "      <td>11.95</td>\n",
       "      <td>2019-04-12 11:07:00</td>\n",
       "      <td>778 Maple St, New York City, NY 10001</td>\n",
       "      <td>11.95</td>\n",
       "      <td>4</td>\n",
       "      <td>New York City</td>\n",
       "      <td>11</td>\n",
       "      <td>1</td>\n",
       "    </tr>\n",
       "    <tr>\n",
       "      <th>128</th>\n",
       "      <td>176681</td>\n",
       "      <td>Apple Airpods Headphones</td>\n",
       "      <td>1</td>\n",
       "      <td>150.00</td>\n",
       "      <td>2019-04-20 10:39:00</td>\n",
       "      <td>331 Cherry St, Seattle, WA 98101</td>\n",
       "      <td>150.00</td>\n",
       "      <td>4</td>\n",
       "      <td>Seattle</td>\n",
       "      <td>10</td>\n",
       "      <td>1</td>\n",
       "    </tr>\n",
       "    <tr>\n",
       "      <th>129</th>\n",
       "      <td>176681</td>\n",
       "      <td>ThinkPad Laptop</td>\n",
       "      <td>1</td>\n",
       "      <td>999.99</td>\n",
       "      <td>2019-04-20 10:39:00</td>\n",
       "      <td>331 Cherry St, Seattle, WA 98101</td>\n",
       "      <td>999.99</td>\n",
       "      <td>4</td>\n",
       "      <td>Seattle</td>\n",
       "      <td>10</td>\n",
       "      <td>1</td>\n",
       "    </tr>\n",
       "    <tr>\n",
       "      <th>137</th>\n",
       "      <td>176689</td>\n",
       "      <td>Bose SoundSport Headphones</td>\n",
       "      <td>1</td>\n",
       "      <td>99.99</td>\n",
       "      <td>2019-04-24 17:15:00</td>\n",
       "      <td>659 Lincoln St, New York City, NY 10001</td>\n",
       "      <td>99.99</td>\n",
       "      <td>4</td>\n",
       "      <td>New York City</td>\n",
       "      <td>17</td>\n",
       "      <td>1</td>\n",
       "    </tr>\n",
       "    <tr>\n",
       "      <th>138</th>\n",
       "      <td>176689</td>\n",
       "      <td>AAA Batteries (4-pack)</td>\n",
       "      <td>2</td>\n",
       "      <td>2.99</td>\n",
       "      <td>2019-04-24 17:15:00</td>\n",
       "      <td>659 Lincoln St, New York City, NY 10001</td>\n",
       "      <td>5.98</td>\n",
       "      <td>4</td>\n",
       "      <td>New York City</td>\n",
       "      <td>17</td>\n",
       "      <td>1</td>\n",
       "    </tr>\n",
       "    <tr>\n",
       "      <th>188</th>\n",
       "      <td>176739</td>\n",
       "      <td>34in Ultrawide Monitor</td>\n",
       "      <td>1</td>\n",
       "      <td>379.99</td>\n",
       "      <td>2019-04-05 17:38:00</td>\n",
       "      <td>730 6th St, Austin, TX 73301</td>\n",
       "      <td>379.99</td>\n",
       "      <td>4</td>\n",
       "      <td>Austin</td>\n",
       "      <td>17</td>\n",
       "      <td>1</td>\n",
       "    </tr>\n",
       "    <tr>\n",
       "      <th>189</th>\n",
       "      <td>176739</td>\n",
       "      <td>Google Phone</td>\n",
       "      <td>1</td>\n",
       "      <td>600.00</td>\n",
       "      <td>2019-04-05 17:38:00</td>\n",
       "      <td>730 6th St, Austin, TX 73301</td>\n",
       "      <td>600.00</td>\n",
       "      <td>4</td>\n",
       "      <td>Austin</td>\n",
       "      <td>17</td>\n",
       "      <td>1</td>\n",
       "    </tr>\n",
       "    <tr>\n",
       "      <th>224</th>\n",
       "      <td>176774</td>\n",
       "      <td>Lightning Charging Cable</td>\n",
       "      <td>1</td>\n",
       "      <td>14.95</td>\n",
       "      <td>2019-04-25 15:06:00</td>\n",
       "      <td>372 Church St, Los Angeles, CA 90001</td>\n",
       "      <td>14.95</td>\n",
       "      <td>4</td>\n",
       "      <td>Los Angeles</td>\n",
       "      <td>15</td>\n",
       "      <td>1</td>\n",
       "    </tr>\n",
       "    <tr>\n",
       "      <th>225</th>\n",
       "      <td>176774</td>\n",
       "      <td>USB-C Charging Cable</td>\n",
       "      <td>1</td>\n",
       "      <td>11.95</td>\n",
       "      <td>2019-04-25 15:06:00</td>\n",
       "      <td>372 Church St, Los Angeles, CA 90001</td>\n",
       "      <td>11.95</td>\n",
       "      <td>4</td>\n",
       "      <td>Los Angeles</td>\n",
       "      <td>15</td>\n",
       "      <td>1</td>\n",
       "    </tr>\n",
       "    <tr>\n",
       "      <th>232</th>\n",
       "      <td>176781</td>\n",
       "      <td>iPhone</td>\n",
       "      <td>1</td>\n",
       "      <td>700.00</td>\n",
       "      <td>2019-04-03 07:37:00</td>\n",
       "      <td>976 Hickory St, Dallas, TX 75001</td>\n",
       "      <td>700.00</td>\n",
       "      <td>4</td>\n",
       "      <td>Dallas</td>\n",
       "      <td>7</td>\n",
       "      <td>1</td>\n",
       "    </tr>\n",
       "    <tr>\n",
       "      <th>233</th>\n",
       "      <td>176781</td>\n",
       "      <td>Lightning Charging Cable</td>\n",
       "      <td>1</td>\n",
       "      <td>14.95</td>\n",
       "      <td>2019-04-03 07:37:00</td>\n",
       "      <td>976 Hickory St, Dallas, TX 75001</td>\n",
       "      <td>14.95</td>\n",
       "      <td>4</td>\n",
       "      <td>Dallas</td>\n",
       "      <td>7</td>\n",
       "      <td>1</td>\n",
       "    </tr>\n",
       "  </tbody>\n",
       "</table>\n",
       "</div>"
      ],
      "text/plain": [
       "     Order ID                     Product  Quantity Ordered  Price Each  \\\n",
       "2      176560                Google Phone                 1      600.00   \n",
       "3      176560            Wired Headphones                 1       11.99   \n",
       "17     176574                Google Phone                 1      600.00   \n",
       "18     176574        USB-C Charging Cable                 1       11.95   \n",
       "29     176585  Bose SoundSport Headphones                 1       99.99   \n",
       "30     176585  Bose SoundSport Headphones                 1       99.99   \n",
       "31     176586      AAA Batteries (4-pack)                 2        2.99   \n",
       "32     176586                Google Phone                 1      600.00   \n",
       "118    176672    Lightning Charging Cable                 1       14.95   \n",
       "119    176672        USB-C Charging Cable                 1       11.95   \n",
       "128    176681    Apple Airpods Headphones                 1      150.00   \n",
       "129    176681             ThinkPad Laptop                 1      999.99   \n",
       "137    176689  Bose SoundSport Headphones                 1       99.99   \n",
       "138    176689      AAA Batteries (4-pack)                 2        2.99   \n",
       "188    176739      34in Ultrawide Monitor                 1      379.99   \n",
       "189    176739                Google Phone                 1      600.00   \n",
       "224    176774    Lightning Charging Cable                 1       14.95   \n",
       "225    176774        USB-C Charging Cable                 1       11.95   \n",
       "232    176781                      iPhone                 1      700.00   \n",
       "233    176781    Lightning Charging Cable                 1       14.95   \n",
       "\n",
       "             Order Date                         Purchase Address     sum  \\\n",
       "2   2019-04-12 14:38:00     669 Spruce St, Los Angeles, CA 90001  600.00   \n",
       "3   2019-04-12 14:38:00     669 Spruce St, Los Angeles, CA 90001   11.99   \n",
       "17  2019-04-03 19:42:00        20 Hill St, Los Angeles, CA 90001  600.00   \n",
       "18  2019-04-03 19:42:00        20 Hill St, Los Angeles, CA 90001   11.95   \n",
       "29  2019-04-07 11:31:00        823 Highland St, Boston, MA 02215   99.99   \n",
       "30  2019-04-07 11:31:00        823 Highland St, Boston, MA 02215   99.99   \n",
       "31  2019-04-10 17:00:00   365 Center St, San Francisco, CA 94016    5.98   \n",
       "32  2019-04-10 17:00:00   365 Center St, San Francisco, CA 94016  600.00   \n",
       "118 2019-04-12 11:07:00    778 Maple St, New York City, NY 10001   14.95   \n",
       "119 2019-04-12 11:07:00    778 Maple St, New York City, NY 10001   11.95   \n",
       "128 2019-04-20 10:39:00         331 Cherry St, Seattle, WA 98101  150.00   \n",
       "129 2019-04-20 10:39:00         331 Cherry St, Seattle, WA 98101  999.99   \n",
       "137 2019-04-24 17:15:00  659 Lincoln St, New York City, NY 10001   99.99   \n",
       "138 2019-04-24 17:15:00  659 Lincoln St, New York City, NY 10001    5.98   \n",
       "188 2019-04-05 17:38:00             730 6th St, Austin, TX 73301  379.99   \n",
       "189 2019-04-05 17:38:00             730 6th St, Austin, TX 73301  600.00   \n",
       "224 2019-04-25 15:06:00     372 Church St, Los Angeles, CA 90001   14.95   \n",
       "225 2019-04-25 15:06:00     372 Church St, Los Angeles, CA 90001   11.95   \n",
       "232 2019-04-03 07:37:00         976 Hickory St, Dallas, TX 75001  700.00   \n",
       "233 2019-04-03 07:37:00         976 Hickory St, Dallas, TX 75001   14.95   \n",
       "\n",
       "     month           city  hour  count  \n",
       "2        4    Los Angeles    14      1  \n",
       "3        4    Los Angeles    14      1  \n",
       "17       4    Los Angeles    19      1  \n",
       "18       4    Los Angeles    19      1  \n",
       "29       4         Boston    11      1  \n",
       "30       4         Boston    11      1  \n",
       "31       4  San Francisco    17      1  \n",
       "32       4  San Francisco    17      1  \n",
       "118      4  New York City    11      1  \n",
       "119      4  New York City    11      1  \n",
       "128      4        Seattle    10      1  \n",
       "129      4        Seattle    10      1  \n",
       "137      4  New York City    17      1  \n",
       "138      4  New York City    17      1  \n",
       "188      4         Austin    17      1  \n",
       "189      4         Austin    17      1  \n",
       "224      4    Los Angeles    15      1  \n",
       "225      4    Los Angeles    15      1  \n",
       "232      4         Dallas     7      1  \n",
       "233      4         Dallas     7      1  "
      ]
     },
     "execution_count": 70,
     "metadata": {},
     "output_type": "execute_result"
    }
   ],
   "source": [
    "duplicated_data = all_data[all_data['Order ID'].duplicated(keep=False)]\n",
    "duplicated_data.head(20)"
   ]
  },
  {
   "cell_type": "code",
   "execution_count": 73,
   "metadata": {},
   "outputs": [
    {
     "name": "stderr",
     "output_type": "stream",
     "text": [
      "<ipython-input-73-ca0831710684>:1: SettingWithCopyWarning: \n",
      "A value is trying to be set on a copy of a slice from a DataFrame.\n",
      "Try using .loc[row_indexer,col_indexer] = value instead\n",
      "\n",
      "See the caveats in the documentation: https://pandas.pydata.org/pandas-docs/stable/user_guide/indexing.html#returning-a-view-versus-a-copy\n",
      "  duplicated_data['grouped_products'] = duplicated_data.groupby('Order ID')['Product'].transform(lambda x : ','.join(x))\n"
     ]
    },
    {
     "data": {
      "text/html": [
       "<div>\n",
       "<style scoped>\n",
       "    .dataframe tbody tr th:only-of-type {\n",
       "        vertical-align: middle;\n",
       "    }\n",
       "\n",
       "    .dataframe tbody tr th {\n",
       "        vertical-align: top;\n",
       "    }\n",
       "\n",
       "    .dataframe thead th {\n",
       "        text-align: right;\n",
       "    }\n",
       "</style>\n",
       "<table border=\"1\" class=\"dataframe\">\n",
       "  <thead>\n",
       "    <tr style=\"text-align: right;\">\n",
       "      <th></th>\n",
       "      <th>Order ID</th>\n",
       "      <th>grouped_products</th>\n",
       "    </tr>\n",
       "  </thead>\n",
       "  <tbody>\n",
       "    <tr>\n",
       "      <th>2</th>\n",
       "      <td>176560</td>\n",
       "      <td>Google Phone,Wired Headphones</td>\n",
       "    </tr>\n",
       "    <tr>\n",
       "      <th>17</th>\n",
       "      <td>176574</td>\n",
       "      <td>Google Phone,USB-C Charging Cable</td>\n",
       "    </tr>\n",
       "    <tr>\n",
       "      <th>29</th>\n",
       "      <td>176585</td>\n",
       "      <td>Bose SoundSport Headphones,Bose SoundSport Hea...</td>\n",
       "    </tr>\n",
       "    <tr>\n",
       "      <th>31</th>\n",
       "      <td>176586</td>\n",
       "      <td>AAA Batteries (4-pack),Google Phone</td>\n",
       "    </tr>\n",
       "    <tr>\n",
       "      <th>118</th>\n",
       "      <td>176672</td>\n",
       "      <td>Lightning Charging Cable,USB-C Charging Cable</td>\n",
       "    </tr>\n",
       "  </tbody>\n",
       "</table>\n",
       "</div>"
      ],
      "text/plain": [
       "     Order ID                                   grouped_products\n",
       "2      176560                      Google Phone,Wired Headphones\n",
       "17     176574                  Google Phone,USB-C Charging Cable\n",
       "29     176585  Bose SoundSport Headphones,Bose SoundSport Hea...\n",
       "31     176586                AAA Batteries (4-pack),Google Phone\n",
       "118    176672      Lightning Charging Cable,USB-C Charging Cable"
      ]
     },
     "execution_count": 73,
     "metadata": {},
     "output_type": "execute_result"
    }
   ],
   "source": [
    "duplicated_data['grouped_products'] = duplicated_data.groupby('Order ID')['Product'].transform(lambda x : ','.join(x))\n",
    "duplicated_data.head()\n",
    "\n",
    "duplicated_data_subset = duplicated_data[['Order ID', 'grouped_products']].drop_duplicates()\n",
    "\n",
    "duplicated_data_subset.head()"
   ]
  },
  {
   "cell_type": "code",
   "execution_count": 76,
   "metadata": {},
   "outputs": [],
   "source": [
    "from itertools import combinations\n",
    "from collections import Counter"
   ]
  },
  {
   "cell_type": "code",
   "execution_count": 105,
   "metadata": {},
   "outputs": [
    {
     "name": "stdout",
     "output_type": "stream",
     "text": [
      "('Lightning Charging Cable', 'iPhone') 1015\n",
      "('Google Phone', 'USB-C Charging Cable') 999\n",
      "('Wired Headphones', 'iPhone') 462\n",
      "('Google Phone', 'Wired Headphones') 423\n",
      "('Apple Airpods Headphones', 'iPhone') 373\n",
      "('USB-C Charging Cable', 'Vareebadd Phone') 368\n",
      "('Bose SoundSport Headphones', 'Google Phone') 228\n",
      "('USB-C Charging Cable', 'Wired Headphones') 205\n",
      "('Vareebadd Phone', 'Wired Headphones') 149\n",
      "('Lightning Charging Cable', 'Wired Headphones') 129\n"
     ]
    }
   ],
   "source": [
    "count = Counter()\n",
    "for row in duplicated_data_subset['grouped_products']:\n",
    "    row_list = sorted(row.split(','))\n",
    "    count.update(Counter(combinations(row_list, 2)))\n",
    "for key, value in count.most_common(10):\n",
    "    print(key, value)\n",
    "count.clear()"
   ]
  },
  {
   "cell_type": "markdown",
   "metadata": {},
   "source": [
    "---\n",
    "# Question 5: What products sold the most? Why do you think it sold the most?\n",
    "---"
   ]
  },
  {
   "cell_type": "code",
   "execution_count": 125,
   "metadata": {},
   "outputs": [
    {
     "data": {
      "image/png": "[encoded data removed]",
      "text/plain": [
       "<Figure size 864x576 with 1 Axes>"
      ]
     },
     "metadata": {
      "needs_background": "light"
     },
     "output_type": "display_data"
    }
   ],
   "source": [
    "all_data.groupby('Product')['Quantity Ordered'].sum().index\n",
    "\n",
    "x = all_data.groupby('Product')['Quantity Ordered'].sum().index\n",
    "y = all_data.groupby('Product')['Quantity Ordered'].sum()\n",
    "\n",
    "plt.figure(figsize=(12,8))\n",
    "plt.ticklabel_format(style='plain')\n",
    "plt.bar(x, y)\n",
    "plt.xlabel('Products')\n",
    "plt.ylabel('Quantities')\n",
    "plt.xticks(x, rotation='vertical')\n",
    "plt.show()"
   ]
  },
  {
   "cell_type": "code",
   "execution_count": 126,
   "metadata": {},
   "outputs": [
    {
     "data": {
      "text/plain": [
       "Product\n",
       "20in Monitor                   109.99\n",
       "27in 4K Gaming Monitor         389.99\n",
       "27in FHD Monitor               149.99\n",
       "34in Ultrawide Monitor         379.99\n",
       "AA Batteries (4-pack)            3.84\n",
       "AAA Batteries (4-pack)           2.99\n",
       "Apple Airpods Headphones       150.00\n",
       "Bose SoundSport Headphones      99.99\n",
       "Flatscreen TV                  300.00\n",
       "Google Phone                   600.00\n",
       "LG Dryer                       600.00\n",
       "LG Washing Machine             600.00\n",
       "Lightning Charging Cable        14.95\n",
       "Macbook Pro Laptop            1700.00\n",
       "ThinkPad Laptop                999.99\n",
       "USB-C Charging Cable            11.95\n",
       "Vareebadd Phone                400.00\n",
       "Wired Headphones                11.99\n",
       "iPhone                         700.00\n",
       "Name: Price Each, dtype: float64"
      ]
     },
     "execution_count": 126,
     "metadata": {},
     "output_type": "execute_result"
    }
   ],
   "source": [
    "prices = all_data.groupby('Product').mean()['Price Each']"
   ]
  },
  {
   "cell_type": "code",
   "execution_count": 171,
   "metadata": {},
   "outputs": [
    {
     "name": "stderr",
     "output_type": "stream",
     "text": [
      "<ipython-input-171-56671e99f3c6>:16: UserWarning: FixedFormatter should only be used together with FixedLocator\n",
      "  ax1.set_xticklabels(x,rotation='vertical', size=8)\n"
     ]
    },
    {
     "data": {
      "image/png": "[encoded data removed]",
      "text/plain": [
       "<Figure size 432x288 with 2 Axes>"
      ]
     },
     "metadata": {
      "needs_background": "light"
     },
     "output_type": "display_data"
    }
   ],
   "source": [
    "fig, ax1 = plt.subplots()\n",
    "ax2 = ax1.twinx()\n",
    "\n",
    "x = all_data.groupby('Product')['Price Each'].sum().index\n",
    "y1 = all_data.groupby('Product')['Quantity Ordered'].sum()\n",
    "y2 = all_data.groupby('Product')['Price Each'].mean()\n",
    "\n",
    "# plt.ticklabel_format(style='plain')\n",
    "ax1.bar(x, y1, color='LIGHTCORAL')\n",
    "ax2.plot(x, y2, color='orange')\n",
    "\n",
    "ax1.set_xlabel('Products')\n",
    "ax1.set_ylabel('Quantity Ordered')\n",
    "ax2.set_ylabel('Product Price')\n",
    "label_format = '{:,.0f}'\n",
    "ax1.set_xticklabels(x,rotation='vertical', size=8)\n",
    "plt.show()"
   ]
  }
 ],
 "metadata": {
  "kernelspec": {
   "display_name": "Python 3",
   "language": "python",
   "name": "python3"
  },
  "language_info": {
   "codemirror_mode": {
    "name": "ipython",
    "version": 3
   },
   "file_extension": ".py",
   "mimetype": "text/x-python",
   "name": "python",
   "nbconvert_exporter": "python",
   "pygments_lexer": "ipython3",
   "version": "3.8.3"
  }
 },
 "nbformat": 4,
 "nbformat_minor": 4
}
