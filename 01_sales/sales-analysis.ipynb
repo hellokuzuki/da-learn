{
 "cells": [
  {
   "cell_type": "code",
   "execution_count": 86,
   "metadata": {},
   "outputs": [],
   "source": [
    "import pandas as pd\n",
    "import numpy as np\n",
    "import glob\n",
    "import os"
   ]
  },
  {
   "cell_type": "markdown",
   "metadata": {},
   "source": [
    "## 1. Concatenate all input sales files into single csv file and export"
   ]
  },
  {
   "cell_type": "code",
   "execution_count": 87,
   "metadata": {},
   "outputs": [],
   "source": [
    "files = glob.glob('./01_sales/input/*.csv')\n",
    "\n",
    "# Method 1\n",
    "# dfs = [pd.read_csv(x)for x in files]\n",
    "# all_data = pd.concat(dfs, ignore_index=True)\n",
    "# all_data.to_csv('./01_sales/output/all_data.csv')\n",
    "\n",
    "# Method 2\n",
    "dfs = [pd.read_csv(x) for x in files]\n",
    "all_data = pd.DataFrame(np.concatenate([x.values for x in dfs]), columns=dfs[0].columns)"
   ]
  },
  {
   "cell_type": "markdown",
   "metadata": {},
   "source": [
    "## 2. Data cleanup (remove NA rows, duplicated headers)"
   ]
  },
  {
   "cell_type": "code",
   "execution_count": 88,
   "metadata": {},
   "outputs": [
    {
     "data": {
      "text/plain": [
       "array(['2', nan, '1', '3', '5', 'Quantity Ordered', '4', '7', '6', '8',\n",
       "       '9'], dtype=object)"
      ]
     },
     "metadata": {},
     "output_type": "display_data"
    },
    {
     "data": {
      "text/plain": [
       "1                   168552\n",
       "2                    13324\n",
       "3                     2920\n",
       "4                      806\n",
       "Quantity Ordered       355\n",
       "5                      236\n",
       "6                       80\n",
       "7                       24\n",
       "8                        5\n",
       "9                        3\n",
       "Name: Quantity Ordered, dtype: int64"
      ]
     },
     "metadata": {},
     "output_type": "display_data"
    },
    {
     "data": {
      "text/plain": [
       "545"
      ]
     },
     "metadata": {},
     "output_type": "display_data"
    }
   ],
   "source": [
    "# Show unique values\n",
    "display(all_data['Quantity Ordered'].unique())\n",
    "# Count unique values\n",
    "display(all_data['Quantity Ordered'].value_counts())\n",
    "# Count NaN values\n",
    "display(len(all_data['Quantity Ordered']) - all_data['Quantity Ordered'].count())"
   ]
  },
  {
   "cell_type": "code",
   "execution_count": 89,
   "metadata": {},
   "outputs": [
    {
     "data": {
      "text/plain": [
       "0"
      ]
     },
     "metadata": {},
     "output_type": "display_data"
    }
   ],
   "source": [
    "# Remove NA values\n",
    "all_data = all_data.dropna(how='all')\n",
    "# Count NaN values\n",
    "display(len(all_data['Quantity Ordered']) - all_data['Quantity Ordered'].count())"
   ]
  },
  {
   "cell_type": "code",
   "execution_count": 90,
   "metadata": {},
   "outputs": [
    {
     "data": {
      "text/plain": [
       "array(['2', '1', '3', '5', '4', '7', '6', '8', '9'], dtype=object)"
      ]
     },
     "metadata": {},
     "output_type": "display_data"
    }
   ],
   "source": [
    "# Remove Duplicated headers\n",
    "headers = all_data.columns\n",
    "all_data = all_data[~all_data['Quantity Ordered'].str.contains('Quantity')]\n",
    "display(all_data['Quantity Ordered'].unique())"
   ]
  },
  {
   "cell_type": "markdown",
   "metadata": {},
   "source": [
    "## 3. Export clean data to csv file"
   ]
  },
  {
   "cell_type": "code",
   "execution_count": 61,
   "metadata": {},
   "outputs": [],
   "source": [
    "all_data.to_csv('./01_sales/output/all_data.csv', index=False)"
   ]
  },
  {
   "cell_type": "markdown",
   "metadata": {},
   "source": [
    "## 4. Convert Column data type"
   ]
  },
  {
   "cell_type": "code",
   "execution_count": 127,
   "metadata": {},
   "outputs": [
    {
     "data": {
      "text/plain": [
       "Order ID                     int64\n",
       "Product                     object\n",
       "Quantity Ordered             int64\n",
       "Price Each                 float64\n",
       "Order Date          datetime64[ns]\n",
       "Purchase Address            object\n",
       "dtype: object"
      ]
     },
     "metadata": {},
     "output_type": "display_data"
    }
   ],
   "source": [
    "all_data = pd.read_csv('./01_sales/output/all_data.csv')\n",
    "\n",
    "# Convert columns to numeric type\n",
    "all_data[['Order ID', 'Quantity Ordered', 'Price Each']] = all_data[['Order ID', 'Quantity Ordered', 'Price Each']].apply(pd.to_numeric)\n",
    "\n",
    "# Convert columns to string type (object refers to string type)\n",
    "all_data[['Product', 'Purchase Address']] = all_data[['Product', 'Purchase Address']].astype(str)\n",
    "\n",
    "# Convert column to datetime type\n",
    "# Method 1\n",
    "# all_data['Order Date'] = all_data['Order Date'].astype('datetime64[ns]')\n",
    "\n",
    "# Method 2\n",
    "all_data['Order Date'] = pd.to_datetime(all_data['Order Date'])\n",
    "display(all_data.dtypes)"
   ]
  }
 ],
 "metadata": {
  "kernelspec": {
   "display_name": "Python 3",
   "language": "python",
   "name": "python3"
  },
  "language_info": {
   "codemirror_mode": {
    "name": "ipython",
    "version": 3
   },
   "file_extension": ".py",
   "mimetype": "text/x-python",
   "name": "python",
   "nbconvert_exporter": "python",
   "pygments_lexer": "ipython3",
   "version": "3.8.3"
  }
 },
 "nbformat": 4,
 "nbformat_minor": 4
}
